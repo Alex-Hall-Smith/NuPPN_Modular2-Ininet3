{
 "cells": [
  {
   "cell_type": "code",
   "execution_count": 1,
   "metadata": {},
   "outputs": [
    {
     "name": "stdout",
     "output_type": "stream",
     "text": [
      "376 cycle numbers found in .\n",
      "Ranging from 00000 to 00375\n",
      "Range may not be continuous. To display all available cycles, print <abu_vector_instance>.files\n",
      "This method adds the following variables to the instance:\n",
      "a_iso_to_plot      mass number of plotted range of species\n",
      "isotope_to_plot    corresponding list of isotopes\n",
      "z_iso_to_plot      corresponding charge numbers\n",
      "el_iso_to_plot     corresponding element names\n",
      "abunds             corresponding abundances\n",
      "isom               isomers and their abundance\n",
      "Calling get method in cycle mode, adding a_iso_to_plot, z.. el.. isotope.. isotope... to instance\n",
      "Using the following conditions:\n",
      "\tAtomic mass_range: 0 215\n",
      "\tcycle:            375\n",
      "\tplot only stable: False\n",
      "\tplot decayed:     False\n"
     ]
    },
    {
     "name": "stderr",
     "output_type": "stream",
     "text": [
      "/opt/york/easybuild/generic_arch/software/NuGridpy/0.7.5-foss-2020a-Python-3.8.2/lib/python3.8/site-packages/nugridpy/data_plot.py:3201: MatplotlibDeprecationWarning: Adding an axes using the same arguments as a previous axes currently reuses the earlier instance.  In a future version, a new instance will always be created and returned.  Meanwhile, this warning can be suppressed, and the future behavior ensured, by passing a unique label to each axes instance.\n",
      "  ax=pl.axes()\n"
     ]
    }
   ],
   "source": [
    "from nugridpy import ppn\n",
    "from nugridpy import utils\n",
    "from nugridpy import data_plot\n",
    "import matplotlib\n",
    "import matplotlib.pyplot as plt\n",
    "import tkinter\n",
    "matplotlib.use('TkAgg')\n",
    "#%matplotlib nbagg\n",
    "#%pylab ipympl\n",
    "\n",
    "from matplotlib.pylab import *\n",
    "ax=plt.axes()\n",
    "\n",
    "p=ppn.abu_vector('.')\n",
    "\n",
    "p.iso_abund(375,amass_range=[0,215],decayed=False,stable=False,ylim=[-15,1.],grid=True,show=True, mypoint='*') \n",
    "#title('Ratio of PRISM over NuGrid')\n"
   ]
  },
  {
   "cell_type": "code",
   "execution_count": 13,
   "metadata": {},
   "outputs": [
    {
     "data": {
      "text/plain": [
       "\u001b[0;31mSignature:\u001b[0m\n",
       "\u001b[0mp\u001b[0m\u001b[0;34m.\u001b[0m\u001b[0miso_abund\u001b[0m\u001b[0;34m(\u001b[0m\u001b[0;34m\u001b[0m\n",
       "\u001b[0;34m\u001b[0m    \u001b[0mcycle\u001b[0m\u001b[0;34m,\u001b[0m\u001b[0;34m\u001b[0m\n",
       "\u001b[0;34m\u001b[0m    \u001b[0mstable\u001b[0m\u001b[0;34m=\u001b[0m\u001b[0;32mFalse\u001b[0m\u001b[0;34m,\u001b[0m\u001b[0;34m\u001b[0m\n",
       "\u001b[0;34m\u001b[0m    \u001b[0mamass_range\u001b[0m\u001b[0;34m=\u001b[0m\u001b[0;32mNone\u001b[0m\u001b[0;34m,\u001b[0m\u001b[0;34m\u001b[0m\n",
       "\u001b[0;34m\u001b[0m    \u001b[0mmass_range\u001b[0m\u001b[0;34m=\u001b[0m\u001b[0;32mNone\u001b[0m\u001b[0;34m,\u001b[0m\u001b[0;34m\u001b[0m\n",
       "\u001b[0;34m\u001b[0m    \u001b[0mylim\u001b[0m\u001b[0;34m=\u001b[0m\u001b[0;34m[\u001b[0m\u001b[0;36m0\u001b[0m\u001b[0;34m,\u001b[0m \u001b[0;36m0\u001b[0m\u001b[0;34m]\u001b[0m\u001b[0;34m,\u001b[0m\u001b[0;34m\u001b[0m\n",
       "\u001b[0;34m\u001b[0m    \u001b[0mref\u001b[0m\u001b[0;34m=\u001b[0m\u001b[0;34m-\u001b[0m\u001b[0;36m1\u001b[0m\u001b[0;34m,\u001b[0m\u001b[0;34m\u001b[0m\n",
       "\u001b[0;34m\u001b[0m    \u001b[0mshow\u001b[0m\u001b[0;34m=\u001b[0m\u001b[0;32mTrue\u001b[0m\u001b[0;34m,\u001b[0m\u001b[0;34m\u001b[0m\n",
       "\u001b[0;34m\u001b[0m    \u001b[0mlog_logic\u001b[0m\u001b[0;34m=\u001b[0m\u001b[0;32mTrue\u001b[0m\u001b[0;34m,\u001b[0m\u001b[0;34m\u001b[0m\n",
       "\u001b[0;34m\u001b[0m    \u001b[0mdecayed\u001b[0m\u001b[0;34m=\u001b[0m\u001b[0;32mFalse\u001b[0m\u001b[0;34m,\u001b[0m\u001b[0;34m\u001b[0m\n",
       "\u001b[0;34m\u001b[0m    \u001b[0mcolor_plot\u001b[0m\u001b[0;34m=\u001b[0m\u001b[0;32mTrue\u001b[0m\u001b[0;34m,\u001b[0m\u001b[0;34m\u001b[0m\n",
       "\u001b[0;34m\u001b[0m    \u001b[0mgrid\u001b[0m\u001b[0;34m=\u001b[0m\u001b[0;32mFalse\u001b[0m\u001b[0;34m,\u001b[0m\u001b[0;34m\u001b[0m\n",
       "\u001b[0;34m\u001b[0m    \u001b[0mpoint_set\u001b[0m\u001b[0;34m=\u001b[0m\u001b[0;36m1\u001b[0m\u001b[0;34m,\u001b[0m\u001b[0;34m\u001b[0m\n",
       "\u001b[0;34m\u001b[0m    \u001b[0minclude_title\u001b[0m\u001b[0;34m=\u001b[0m\u001b[0;32mFalse\u001b[0m\u001b[0;34m,\u001b[0m\u001b[0;34m\u001b[0m\n",
       "\u001b[0;34m\u001b[0m    \u001b[0mdata_provided\u001b[0m\u001b[0;34m=\u001b[0m\u001b[0;32mFalse\u001b[0m\u001b[0;34m,\u001b[0m\u001b[0;34m\u001b[0m\n",
       "\u001b[0;34m\u001b[0m    \u001b[0mthedata\u001b[0m\u001b[0;34m=\u001b[0m\u001b[0;32mNone\u001b[0m\u001b[0;34m,\u001b[0m\u001b[0;34m\u001b[0m\n",
       "\u001b[0;34m\u001b[0m    \u001b[0mverbose\u001b[0m\u001b[0;34m=\u001b[0m\u001b[0;32mTrue\u001b[0m\u001b[0;34m,\u001b[0m\u001b[0;34m\u001b[0m\n",
       "\u001b[0;34m\u001b[0m    \u001b[0mmov\u001b[0m\u001b[0;34m=\u001b[0m\u001b[0;32mFalse\u001b[0m\u001b[0;34m,\u001b[0m\u001b[0;34m\u001b[0m\n",
       "\u001b[0;34m\u001b[0m    \u001b[0mdrawfig\u001b[0m\u001b[0;34m=\u001b[0m\u001b[0;32mNone\u001b[0m\u001b[0;34m,\u001b[0m\u001b[0;34m\u001b[0m\n",
       "\u001b[0;34m\u001b[0m    \u001b[0mdrawax\u001b[0m\u001b[0;34m=\u001b[0m\u001b[0;32mNone\u001b[0m\u001b[0;34m,\u001b[0m\u001b[0;34m\u001b[0m\n",
       "\u001b[0;34m\u001b[0m    \u001b[0mshow_names\u001b[0m\u001b[0;34m=\u001b[0m\u001b[0;32mTrue\u001b[0m\u001b[0;34m,\u001b[0m\u001b[0;34m\u001b[0m\n",
       "\u001b[0;34m\u001b[0m    \u001b[0mlabel\u001b[0m\u001b[0;34m=\u001b[0m\u001b[0;32mNone\u001b[0m\u001b[0;34m,\u001b[0m\u001b[0;34m\u001b[0m\n",
       "\u001b[0;34m\u001b[0m    \u001b[0mcolour\u001b[0m\u001b[0;34m=\u001b[0m\u001b[0;32mNone\u001b[0m\u001b[0;34m,\u001b[0m\u001b[0;34m\u001b[0m\n",
       "\u001b[0;34m\u001b[0m    \u001b[0melemaburtn\u001b[0m\u001b[0;34m=\u001b[0m\u001b[0;32mFalse\u001b[0m\u001b[0;34m,\u001b[0m\u001b[0;34m\u001b[0m\n",
       "\u001b[0;34m\u001b[0m    \u001b[0mmypoint\u001b[0m\u001b[0;34m=\u001b[0m\u001b[0;32mNone\u001b[0m\u001b[0;34m,\u001b[0m\u001b[0;34m\u001b[0m\n",
       "\u001b[0;34m\u001b[0m\u001b[0;34m)\u001b[0m\u001b[0;34m\u001b[0m\u001b[0;34m\u001b[0m\u001b[0m\n",
       "\u001b[0;31mDocstring:\u001b[0m\n",
       "plot the abundance of all the chemical species\n",
       "\n",
       "Parameters\n",
       "----------\n",
       "cycle : string, integer or list\n",
       "    The cycle of interest.  If it is a list of cycles, this\n",
       "    method will do a plot for each cycle and save them to a\n",
       "    file.\n",
       "stable : boolean, optional\n",
       "    A boolean of whether to filter out the unstables.  The\n",
       "    defaults is False.\n",
       "amass_range : list, optional\n",
       "    A 1x2 array containing the lower and upper atomic mass\n",
       "    range.  If None plot entire available atomic mass range.\n",
       "    The default is None.\n",
       "mass_range : list, optional\n",
       "    A 1x2 array containing the lower and upper mass range.  If\n",
       "    this is an instance of abu_vector this will only plot\n",
       "    isotopes that have an atominc mass within this range.  This\n",
       "    will throw an error if this range does not make sense ie\n",
       "    [45,2].  If None, it will plot over the entire range.  The\n",
       "    defaults is None.\n",
       "ylim : list, optional\n",
       "    A 1x2 array containing the lower and upper Y limits.  If\n",
       "    it is [0,0], then ylim will be determined automatically.\n",
       "    The default is [0,0].\n",
       "ref : integer or list, optional\n",
       "    reference cycle.  If it is not -1, this method will plot\n",
       "    the abundences of cycle devided by the cycle of the same\n",
       "    instance given in the ref variable.  If ref is a list it\n",
       "    will be interpreted to have two elements:\n",
       "    ref=['dir/of/ref/run',cycle] which uses a refernece cycle\n",
       "    from another run.  If any abundence in the reference cycle\n",
       "    is zero, it will replace it with 1e-99.  The default is -1.\n",
       "show : boolean, optional\n",
       "    Boolean of if the plot should be displayed.  The default is\n",
       "    True.\n",
       "log_logic : boolean, optional\n",
       "    Plot abundances in log scale or linear.  The default is\n",
       "    True.\n",
       "decayed : boolean, optional\n",
       "    If True plot decayed distributions, else plot life\n",
       "    distribution.  The default is False.\n",
       "color_plot : boolean, optional\n",
       "    Color dots and lines [True/False].  The default is True.\n",
       "grid : boolean, optional\n",
       "    print grid.  The default is False.\n",
       "point_set : integer, optional\n",
       "    Set to 0, 1 or 2 to select one of three point sets, useful\n",
       "    for multiple abundances or ratios in one plot.  The defalult\n",
       "    is 1.\n",
       "include_title : boolean, optional\n",
       "    Include a title with the plot.  The default is False.\n",
       "drawfig, drawax, mov : optional, not necessary for user to set these variables\n",
       "    The figure and axes containers to be drawn on, and whether or not a movie is\n",
       "    being made (only True when se.movie is called, which sets mov to True\n",
       "    automatically\n",
       "elemaburtn : boolean, private\n",
       "    If true, iso_abund() returns after writing self.***_iso_to_plot for\n",
       "    use with other plotting routines.\n",
       "mypoint : string, optional\n",
       "    fix the marker style of all the points in this plot to one type, given\n",
       "    as a string. If None, multiple point styles are used as per point_set.\n",
       "    The default is None\n",
       "\u001b[0;31mFile:\u001b[0m      /opt/york/easybuild/generic_arch/software/NuGridpy/0.7.5-foss-2020a-Python-3.8.2/lib/python3.8/site-packages/nugridpy/data_plot.py\n",
       "\u001b[0;31mType:\u001b[0m      method\n"
      ]
     },
     "metadata": {},
     "output_type": "display_data"
    }
   ],
   "source": [
    "p.iso_abund?"
   ]
  },
  {
   "cell_type": "code",
   "execution_count": null,
   "metadata": {},
   "outputs": [],
   "source": []
  }
 ],
 "metadata": {
  "kernelspec": {
   "display_name": "Python 3",
   "language": "python",
   "name": "python3"
  },
  "language_info": {
   "codemirror_mode": {
    "name": "ipython",
    "version": 3
   },
   "file_extension": ".py",
   "mimetype": "text/x-python",
   "name": "python",
   "nbconvert_exporter": "python",
   "pygments_lexer": "ipython3",
   "version": "3.8.2"
  }
 },
 "nbformat": 4,
 "nbformat_minor": 4
}
